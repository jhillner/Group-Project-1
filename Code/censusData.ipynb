{
 "cells": [
  {
   "cell_type": "code",
   "execution_count": 1,
   "metadata": {},
   "outputs": [],
   "source": [
    "\n",
    "## Dependencies and Setup\n",
    "import matplotlib.pyplot as plt\n",
    "import pandas as pd\n",
    "import numpy as np\n",
    "import requests\n",
    "import gmaps\n",
    "import os\n",
    "\n",
    "## Import API key\n",
    "from api_keys import g_key"
   ]
  },
  {
   "cell_type": "code",
   "execution_count": 2,
   "metadata": {},
   "outputs": [
    {
     "data": {
      "text/html": [
       "<div>\n",
       "<style scoped>\n",
       "    .dataframe tbody tr th:only-of-type {\n",
       "        vertical-align: middle;\n",
       "    }\n",
       "\n",
       "    .dataframe tbody tr th {\n",
       "        vertical-align: top;\n",
       "    }\n",
       "\n",
       "    .dataframe thead th {\n",
       "        text-align: right;\n",
       "    }\n",
       "</style>\n",
       "<table border=\"1\" class=\"dataframe\">\n",
       "  <thead>\n",
       "    <tr style=\"text-align: right;\">\n",
       "      <th></th>\n",
       "      <th>City</th>\n",
       "      <th>State</th>\n",
       "      <th>Population</th>\n",
       "      <th>Location</th>\n",
       "    </tr>\n",
       "  </thead>\n",
       "  <tbody>\n",
       "    <tr>\n",
       "      <th>0</th>\n",
       "      <td>New York</td>\n",
       "      <td>New York</td>\n",
       "      <td>8175133</td>\n",
       "      <td>Northeast</td>\n",
       "    </tr>\n",
       "    <tr>\n",
       "      <th>1</th>\n",
       "      <td>Los Angeles</td>\n",
       "      <td>California</td>\n",
       "      <td>3792621</td>\n",
       "      <td>West</td>\n",
       "    </tr>\n",
       "    <tr>\n",
       "      <th>2</th>\n",
       "      <td>Chicago</td>\n",
       "      <td>Illinois</td>\n",
       "      <td>2695598</td>\n",
       "      <td>Midwest</td>\n",
       "    </tr>\n",
       "    <tr>\n",
       "      <th>3</th>\n",
       "      <td>Houston</td>\n",
       "      <td>Texas</td>\n",
       "      <td>2099451</td>\n",
       "      <td>South</td>\n",
       "    </tr>\n",
       "    <tr>\n",
       "      <th>4</th>\n",
       "      <td>Philadelphia</td>\n",
       "      <td>Pennsylvania</td>\n",
       "      <td>1526006</td>\n",
       "      <td>Northeast</td>\n",
       "    </tr>\n",
       "  </tbody>\n",
       "</table>\n",
       "</div>"
      ],
      "text/plain": [
       "           City         State  Population   Location\n",
       "0      New York      New York     8175133  Northeast\n",
       "1   Los Angeles    California     3792621       West\n",
       "2       Chicago      Illinois     2695598    Midwest\n",
       "3       Houston         Texas     2099451      South\n",
       "4  Philadelphia  Pennsylvania     1526006  Northeast"
      ]
     },
     "execution_count": 2,
     "metadata": {},
     "output_type": "execute_result"
    }
   ],
   "source": [
    "## create census dataframes for each decade\n",
    "cityCensus_1940 = pd.read_excel('../Data/Largest 100 US Cities 1940-2010.xlsx', '1940')\n",
    "cityCensus_1950 = pd.read_excel('../Data/Largest 100 US Cities 1940-2010.xlsx', '1950')\n",
    "cityCensus_1960 = pd.read_excel('../Data/Largest 100 US Cities 1940-2010.xlsx', '1960')\n",
    "cityCensus_1970 = pd.read_excel('../Data/Largest 100 US Cities 1940-2010.xlsx', '1970')\n",
    "cityCensus_1980 = pd.read_excel('../Data/Largest 100 US Cities 1940-2010.xlsx', '1980')\n",
    "cityCensus_1990 = pd.read_excel('../Data/Largest 100 US Cities 1940-2010.xlsx', '1990')\n",
    "cityCensus_2000 = pd.read_excel('../Data/Largest 100 US Cities 1940-2010.xlsx', '2000')\n",
    "cityCensus_2010 = pd.read_excel('../Data/Largest 100 US Cities 1940-2010.xlsx', '2010')\n",
    "\n",
    "del cityCensus_1940['Unnamed: 0']\n",
    "del cityCensus_1950['Unnamed: 0']\n",
    "del cityCensus_1960['Unnamed: 0']\n",
    "del cityCensus_1970['Unnamed: 0']\n",
    "del cityCensus_1980['Unnamed: 0']\n",
    "del cityCensus_1990['Unnamed: 0']\n",
    "del cityCensus_2000['Unnamed: 0']\n",
    "del cityCensus_2010['Unnamed: 0']\n",
    "\n",
    "cityCensus_2010.head()"
   ]
  },
  {
   "cell_type": "code",
   "execution_count": 3,
   "metadata": {},
   "outputs": [],
   "source": [
    "# base url\n",
    "base_url = 'https://maps.googleapis.com/maps/api/geocode/json'\n",
    "\n",
    "params = {\n",
    "    \"key\": g_key,\n",
    "}\n"
   ]
  },
  {
   "cell_type": "code",
   "execution_count": 5,
   "metadata": {},
   "outputs": [],
   "source": [
    "## lat/long function\n",
    "def latLong(df):\n",
    "    for index, row in df.iterrows():\n",
    "        city = row['City']\n",
    "        state = row['State']\n",
    "        params['address'] = f'{city}, {state}'\n",
    "        response = requests.get(base_url, params=params).json()\n",
    "        df.loc[index, \"Latitude\"] = response['results'][0]['geometry']['location']['lat']\n",
    "        df.loc[index, \"Longitude\"] = response['results'][0]['geometry']['location']['lng']\n",
    "        #print(city)\n",
    "    "
   ]
  },
  {
   "cell_type": "code",
   "execution_count": 7,
   "metadata": {},
   "outputs": [],
   "source": [
    "## run function on each decade\n",
    "# necessary to only run once:\n",
    "\n",
    "# latLong(cityCensus_1940)\n",
    "# latLong(cityCensus_1950)\n",
    "# latLong(cityCensus_1960)\n",
    "# latLong(cityCensus_1970)\n",
    "# latLong(cityCensus_1980)\n",
    "# latLong(cityCensus_1990)\n",
    "# latLong(cityCensus_2000)\n",
    "# latLong(cityCensus_2010)"
   ]
  },
  {
   "cell_type": "code",
   "execution_count": 9,
   "metadata": {},
   "outputs": [],
   "source": [
    "## make csv files\n",
    "cityCensus_1940.to_csv('../Data/cityCensus_1940.csv')\n",
    "cityCensus_1950.to_csv('../Data/cityCensus_1950.csv')\n",
    "cityCensus_1960.to_csv('../Data/cityCensus_1960.csv')\n",
    "cityCensus_1970.to_csv('../Data/cityCensus_1970.csv')\n",
    "cityCensus_1980.to_csv('../Data/cityCensus_1980.csv')\n",
    "cityCensus_1990.to_csv('../Data/cityCensus_1990.csv')\n",
    "cityCensus_2000.to_csv('../Data/cityCensus_2000.csv')\n",
    "cityCensus_2010.to_csv('../Data/cityCensus_2010.csv')"
   ]
  },
  {
   "cell_type": "code",
   "execution_count": null,
   "metadata": {},
   "outputs": [],
   "source": []
  }
 ],
 "metadata": {
  "kernelspec": {
   "display_name": "Python 3",
   "language": "python",
   "name": "python3"
  },
  "language_info": {
   "codemirror_mode": {
    "name": "ipython",
    "version": 3
   },
   "file_extension": ".py",
   "mimetype": "text/x-python",
   "name": "python",
   "nbconvert_exporter": "python",
   "pygments_lexer": "ipython3",
   "version": "3.8.3"
  }
 },
 "nbformat": 4,
 "nbformat_minor": 4
}
