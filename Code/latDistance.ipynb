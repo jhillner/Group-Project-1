{
 "cells": [
  {
   "cell_type": "code",
   "execution_count": 1,
   "metadata": {},
   "outputs": [],
   "source": [
    "## Dependencies and Setup\n",
    "import matplotlib.pyplot as plt\n",
    "import pandas as pd\n",
    "import numpy as np\n",
    "import requests\n",
    "import gmaps\n",
    "import os\n",
    "from math import sin, cos, sqrt, atan2, radians\n",
    "import warnings"
   ]
  },
  {
   "cell_type": "code",
   "execution_count": 2,
   "metadata": {},
   "outputs": [],
   "source": [
    "## load up zip code/geocode data\n",
    "geoData = pd.read_csv('../Data/zipCodeGeoCode.csv', converters={'Zip':str})"
   ]
  },
  {
   "cell_type": "code",
   "execution_count": 3,
   "metadata": {
    "scrolled": true
   },
   "outputs": [
    {
     "data": {
      "text/html": [
       "<div>\n",
       "<style scoped>\n",
       "    .dataframe tbody tr th:only-of-type {\n",
       "        vertical-align: middle;\n",
       "    }\n",
       "\n",
       "    .dataframe tbody tr th {\n",
       "        vertical-align: top;\n",
       "    }\n",
       "\n",
       "    .dataframe thead th {\n",
       "        text-align: right;\n",
       "    }\n",
       "</style>\n",
       "<table border=\"1\" class=\"dataframe\">\n",
       "  <thead>\n",
       "    <tr style=\"text-align: right;\">\n",
       "      <th></th>\n",
       "      <th>Zip</th>\n",
       "      <th>City</th>\n",
       "      <th>State</th>\n",
       "      <th>Latitude</th>\n",
       "      <th>Longitude</th>\n",
       "      <th>Timezone</th>\n",
       "      <th>Daylight savings time flag</th>\n",
       "      <th>geopoint</th>\n",
       "    </tr>\n",
       "  </thead>\n",
       "  <tbody>\n",
       "    <tr>\n",
       "      <th>0</th>\n",
       "      <td>05769</td>\n",
       "      <td>Salisbury</td>\n",
       "      <td>VT</td>\n",
       "      <td>43.914026</td>\n",
       "      <td>-73.107030</td>\n",
       "      <td>-5</td>\n",
       "      <td>1</td>\n",
       "      <td>43.914026, -73.10703</td>\n",
       "    </tr>\n",
       "    <tr>\n",
       "      <th>1</th>\n",
       "      <td>01085</td>\n",
       "      <td>Westfield</td>\n",
       "      <td>MA</td>\n",
       "      <td>42.133642</td>\n",
       "      <td>-72.750290</td>\n",
       "      <td>-5</td>\n",
       "      <td>1</td>\n",
       "      <td>42.133642, -72.75029</td>\n",
       "    </tr>\n",
       "    <tr>\n",
       "      <th>2</th>\n",
       "      <td>01340</td>\n",
       "      <td>Colrain</td>\n",
       "      <td>MA</td>\n",
       "      <td>42.673371</td>\n",
       "      <td>-72.731040</td>\n",
       "      <td>-5</td>\n",
       "      <td>1</td>\n",
       "      <td>42.673371, -72.73104</td>\n",
       "    </tr>\n",
       "    <tr>\n",
       "      <th>3</th>\n",
       "      <td>25728</td>\n",
       "      <td>Huntington</td>\n",
       "      <td>WV</td>\n",
       "      <td>38.413384</td>\n",
       "      <td>-82.277401</td>\n",
       "      <td>-5</td>\n",
       "      <td>1</td>\n",
       "      <td>38.413384, -82.277401</td>\n",
       "    </tr>\n",
       "    <tr>\n",
       "      <th>4</th>\n",
       "      <td>26035</td>\n",
       "      <td>Colliers</td>\n",
       "      <td>WV</td>\n",
       "      <td>40.352943</td>\n",
       "      <td>-80.555850</td>\n",
       "      <td>-5</td>\n",
       "      <td>1</td>\n",
       "      <td>40.352943, -80.55585</td>\n",
       "    </tr>\n",
       "  </tbody>\n",
       "</table>\n",
       "</div>"
      ],
      "text/plain": [
       "     Zip        City State   Latitude  Longitude  Timezone  \\\n",
       "0  05769   Salisbury    VT  43.914026 -73.107030        -5   \n",
       "1  01085   Westfield    MA  42.133642 -72.750290        -5   \n",
       "2  01340     Colrain    MA  42.673371 -72.731040        -5   \n",
       "3  25728  Huntington    WV  38.413384 -82.277401        -5   \n",
       "4  26035    Colliers    WV  40.352943 -80.555850        -5   \n",
       "\n",
       "   Daylight savings time flag               geopoint  \n",
       "0                           1   43.914026, -73.10703  \n",
       "1                           1   42.133642, -72.75029  \n",
       "2                           1   42.673371, -72.73104  \n",
       "3                           1  38.413384, -82.277401  \n",
       "4                           1   40.352943, -80.55585  "
      ]
     },
     "execution_count": 3,
     "metadata": {},
     "output_type": "execute_result"
    }
   ],
   "source": [
    "geoData.head()"
   ]
  },
  {
   "cell_type": "code",
   "execution_count": 4,
   "metadata": {},
   "outputs": [
    {
     "data": {
      "text/html": [
       "<div>\n",
       "<style scoped>\n",
       "    .dataframe tbody tr th:only-of-type {\n",
       "        vertical-align: middle;\n",
       "    }\n",
       "\n",
       "    .dataframe tbody tr th {\n",
       "        vertical-align: top;\n",
       "    }\n",
       "\n",
       "    .dataframe thead th {\n",
       "        text-align: right;\n",
       "    }\n",
       "</style>\n",
       "<table border=\"1\" class=\"dataframe\">\n",
       "  <thead>\n",
       "    <tr style=\"text-align: right;\">\n",
       "      <th></th>\n",
       "      <th>Zip Code ZCTA</th>\n",
       "      <th>2010 Census Population</th>\n",
       "    </tr>\n",
       "  </thead>\n",
       "  <tbody>\n",
       "    <tr>\n",
       "      <th>0</th>\n",
       "      <td>01001</td>\n",
       "      <td>16769.0</td>\n",
       "    </tr>\n",
       "    <tr>\n",
       "      <th>1</th>\n",
       "      <td>01002</td>\n",
       "      <td>29049.0</td>\n",
       "    </tr>\n",
       "    <tr>\n",
       "      <th>2</th>\n",
       "      <td>01003</td>\n",
       "      <td>10372.0</td>\n",
       "    </tr>\n",
       "    <tr>\n",
       "      <th>3</th>\n",
       "      <td>01005</td>\n",
       "      <td>5079.0</td>\n",
       "    </tr>\n",
       "    <tr>\n",
       "      <th>4</th>\n",
       "      <td>01007</td>\n",
       "      <td>14649.0</td>\n",
       "    </tr>\n",
       "  </tbody>\n",
       "</table>\n",
       "</div>"
      ],
      "text/plain": [
       "  Zip Code ZCTA  2010 Census Population\n",
       "0         01001                 16769.0\n",
       "1         01002                 29049.0\n",
       "2         01003                 10372.0\n",
       "3         01005                  5079.0\n",
       "4         01007                 14649.0"
      ]
     },
     "execution_count": 4,
     "metadata": {},
     "output_type": "execute_result"
    }
   ],
   "source": [
    "## load up zip code/geocode data\n",
    "zipPopAll = pd.read_excel('../Data/2010+Census+Population+By+Zipcode+(ZCTA).xlsx', converters={'Zip Code ZCTA':str})\n",
    "zipPopAll.head()\n"
   ]
  },
  {
   "cell_type": "code",
   "execution_count": 5,
   "metadata": {},
   "outputs": [
    {
     "data": {
      "text/html": [
       "<div>\n",
       "<style scoped>\n",
       "    .dataframe tbody tr th:only-of-type {\n",
       "        vertical-align: middle;\n",
       "    }\n",
       "\n",
       "    .dataframe tbody tr th {\n",
       "        vertical-align: top;\n",
       "    }\n",
       "\n",
       "    .dataframe thead th {\n",
       "        text-align: right;\n",
       "    }\n",
       "</style>\n",
       "<table border=\"1\" class=\"dataframe\">\n",
       "  <thead>\n",
       "    <tr style=\"text-align: right;\">\n",
       "      <th></th>\n",
       "      <th>Zip Code ZCTA</th>\n",
       "      <th>2010 Census Population</th>\n",
       "    </tr>\n",
       "  </thead>\n",
       "  <tbody>\n",
       "    <tr>\n",
       "      <th>0</th>\n",
       "      <td>01001</td>\n",
       "      <td>16769.0</td>\n",
       "    </tr>\n",
       "    <tr>\n",
       "      <th>1</th>\n",
       "      <td>01002</td>\n",
       "      <td>29049.0</td>\n",
       "    </tr>\n",
       "    <tr>\n",
       "      <th>2</th>\n",
       "      <td>01003</td>\n",
       "      <td>10372.0</td>\n",
       "    </tr>\n",
       "    <tr>\n",
       "      <th>3</th>\n",
       "      <td>01005</td>\n",
       "      <td>5079.0</td>\n",
       "    </tr>\n",
       "    <tr>\n",
       "      <th>4</th>\n",
       "      <td>01007</td>\n",
       "      <td>14649.0</td>\n",
       "    </tr>\n",
       "  </tbody>\n",
       "</table>\n",
       "</div>"
      ],
      "text/plain": [
       "  Zip Code ZCTA  2010 Census Population\n",
       "0         01001                 16769.0\n",
       "1         01002                 29049.0\n",
       "2         01003                 10372.0\n",
       "3         01005                  5079.0\n",
       "4         01007                 14649.0"
      ]
     },
     "execution_count": 5,
     "metadata": {},
     "output_type": "execute_result"
    }
   ],
   "source": [
    "zipPopAll.head()"
   ]
  },
  {
   "cell_type": "code",
   "execution_count": 6,
   "metadata": {},
   "outputs": [
    {
     "data": {
      "text/plain": [
       "33096"
      ]
     },
     "execution_count": 6,
     "metadata": {},
     "output_type": "execute_result"
    }
   ],
   "source": [
    "len(zipPopAll)"
   ]
  },
  {
   "cell_type": "code",
   "execution_count": 7,
   "metadata": {},
   "outputs": [
    {
     "data": {
      "text/plain": [
       "43191"
      ]
     },
     "execution_count": 7,
     "metadata": {},
     "output_type": "execute_result"
    }
   ],
   "source": [
    "len(geoData)"
   ]
  },
  {
   "cell_type": "code",
   "execution_count": 8,
   "metadata": {},
   "outputs": [],
   "source": [
    "## find lat/long \n",
    "mergeDF = pd.merge(geoData, zipPopAll, left_on='Zip', right_on='Zip Code ZCTA')"
   ]
  },
  {
   "cell_type": "code",
   "execution_count": 9,
   "metadata": {},
   "outputs": [
    {
     "data": {
      "text/html": [
       "<div>\n",
       "<style scoped>\n",
       "    .dataframe tbody tr th:only-of-type {\n",
       "        vertical-align: middle;\n",
       "    }\n",
       "\n",
       "    .dataframe tbody tr th {\n",
       "        vertical-align: top;\n",
       "    }\n",
       "\n",
       "    .dataframe thead th {\n",
       "        text-align: right;\n",
       "    }\n",
       "</style>\n",
       "<table border=\"1\" class=\"dataframe\">\n",
       "  <thead>\n",
       "    <tr style=\"text-align: right;\">\n",
       "      <th></th>\n",
       "      <th>Zip</th>\n",
       "      <th>City</th>\n",
       "      <th>State</th>\n",
       "      <th>Latitude</th>\n",
       "      <th>Longitude</th>\n",
       "      <th>Timezone</th>\n",
       "      <th>Daylight savings time flag</th>\n",
       "      <th>geopoint</th>\n",
       "      <th>Zip Code ZCTA</th>\n",
       "      <th>2010 Census Population</th>\n",
       "    </tr>\n",
       "  </thead>\n",
       "  <tbody>\n",
       "    <tr>\n",
       "      <th>0</th>\n",
       "      <td>05769</td>\n",
       "      <td>Salisbury</td>\n",
       "      <td>VT</td>\n",
       "      <td>43.914026</td>\n",
       "      <td>-73.10703</td>\n",
       "      <td>-5</td>\n",
       "      <td>1</td>\n",
       "      <td>43.914026, -73.10703</td>\n",
       "      <td>05769</td>\n",
       "      <td>1216.0</td>\n",
       "    </tr>\n",
       "    <tr>\n",
       "      <th>1</th>\n",
       "      <td>01085</td>\n",
       "      <td>Westfield</td>\n",
       "      <td>MA</td>\n",
       "      <td>42.133642</td>\n",
       "      <td>-72.75029</td>\n",
       "      <td>-5</td>\n",
       "      <td>1</td>\n",
       "      <td>42.133642, -72.75029</td>\n",
       "      <td>01085</td>\n",
       "      <td>41117.0</td>\n",
       "    </tr>\n",
       "    <tr>\n",
       "      <th>2</th>\n",
       "      <td>01340</td>\n",
       "      <td>Colrain</td>\n",
       "      <td>MA</td>\n",
       "      <td>42.673371</td>\n",
       "      <td>-72.73104</td>\n",
       "      <td>-5</td>\n",
       "      <td>1</td>\n",
       "      <td>42.673371, -72.73104</td>\n",
       "      <td>01340</td>\n",
       "      <td>1701.0</td>\n",
       "    </tr>\n",
       "    <tr>\n",
       "      <th>3</th>\n",
       "      <td>26035</td>\n",
       "      <td>Colliers</td>\n",
       "      <td>WV</td>\n",
       "      <td>40.352943</td>\n",
       "      <td>-80.55585</td>\n",
       "      <td>-5</td>\n",
       "      <td>1</td>\n",
       "      <td>40.352943, -80.55585</td>\n",
       "      <td>26035</td>\n",
       "      <td>2491.0</td>\n",
       "    </tr>\n",
       "    <tr>\n",
       "      <th>4</th>\n",
       "      <td>36279</td>\n",
       "      <td>Wellington</td>\n",
       "      <td>AL</td>\n",
       "      <td>33.862349</td>\n",
       "      <td>-85.89512</td>\n",
       "      <td>-6</td>\n",
       "      <td>1</td>\n",
       "      <td>33.862349, -85.89512</td>\n",
       "      <td>36279</td>\n",
       "      <td>2645.0</td>\n",
       "    </tr>\n",
       "  </tbody>\n",
       "</table>\n",
       "</div>"
      ],
      "text/plain": [
       "     Zip        City State   Latitude  Longitude  Timezone  \\\n",
       "0  05769   Salisbury    VT  43.914026  -73.10703        -5   \n",
       "1  01085   Westfield    MA  42.133642  -72.75029        -5   \n",
       "2  01340     Colrain    MA  42.673371  -72.73104        -5   \n",
       "3  26035    Colliers    WV  40.352943  -80.55585        -5   \n",
       "4  36279  Wellington    AL  33.862349  -85.89512        -6   \n",
       "\n",
       "   Daylight savings time flag              geopoint Zip Code ZCTA  \\\n",
       "0                           1  43.914026, -73.10703         05769   \n",
       "1                           1  42.133642, -72.75029         01085   \n",
       "2                           1  42.673371, -72.73104         01340   \n",
       "3                           1  40.352943, -80.55585         26035   \n",
       "4                           1  33.862349, -85.89512         36279   \n",
       "\n",
       "   2010 Census Population  \n",
       "0                  1216.0  \n",
       "1                 41117.0  \n",
       "2                  1701.0  \n",
       "3                  2491.0  \n",
       "4                  2645.0  "
      ]
     },
     "execution_count": 9,
     "metadata": {},
     "output_type": "execute_result"
    }
   ],
   "source": [
    "mergeDF.head()\n"
   ]
  },
  {
   "cell_type": "code",
   "execution_count": 18,
   "metadata": {},
   "outputs": [],
   "source": [
    "geoPop = mergeDF[['Zip', 'City', 'State', 'Latitude', 'Longitude', '2010 Census Population']].copy()"
   ]
  },
  {
   "cell_type": "code",
   "execution_count": 19,
   "metadata": {},
   "outputs": [],
   "source": [
    "def distanceCalculator(lat1Reactor, long1Reactor, lat2City, long2City):\n",
    "    # approximate radius of earth in km\n",
    "    R = 6373.0\n",
    "\n",
    "    lat1 = radians(lat1Reactor)\n",
    "    lon1 = radians(long1Reactor)\n",
    "    lat2 = radians(lat2City)\n",
    "    lon2 = radians(long2City)\n",
    "\n",
    "    dlon = lon2 - lon1\n",
    "    dlat = lat2 - lat1\n",
    "\n",
    "    a = sin(dlat / 2)**2 + cos(lat1) * cos(lat2) * sin(dlon / 2)**2\n",
    "    c = 2 * atan2(sqrt(a), sqrt(1 - a))\n",
    "\n",
    "    distance = R * c\n",
    "    return distance\n",
    "\n"
   ]
  },
  {
   "cell_type": "code",
   "execution_count": 20,
   "metadata": {},
   "outputs": [
    {
     "data": {
      "text/plain": [
       "32876"
      ]
     },
     "execution_count": 20,
     "metadata": {},
     "output_type": "execute_result"
    }
   ],
   "source": [
    "geoPop.head()\n",
    "len(geoPop)"
   ]
  },
  {
   "cell_type": "code",
   "execution_count": 21,
   "metadata": {},
   "outputs": [],
   "source": [
    "#def reactorDistance(popDF, lat1Reactor, long1Reactor):\n",
    "for index, row in geoPop.iterrows():\n",
    "   #     warnings.filterwarnings('ignore')\n",
    "    lat1Reactor = 35.330898\n",
    "    long1Reactor = -93.247162\n",
    "    lat2City = row['Latitude']\n",
    "    long2City = row['Longitude']\n",
    "    dist = distanceCalculator(lat1Reactor, long1Reactor, lat2City, long2City)\n",
    "    geoPop.loc[index, 'Distance from Reactor'] = dist\n",
    "\n",
    "    \n"
   ]
  },
  {
   "cell_type": "code",
   "execution_count": 22,
   "metadata": {},
   "outputs": [
    {
     "data": {
      "text/html": [
       "<div>\n",
       "<style scoped>\n",
       "    .dataframe tbody tr th:only-of-type {\n",
       "        vertical-align: middle;\n",
       "    }\n",
       "\n",
       "    .dataframe tbody tr th {\n",
       "        vertical-align: top;\n",
       "    }\n",
       "\n",
       "    .dataframe thead th {\n",
       "        text-align: right;\n",
       "    }\n",
       "</style>\n",
       "<table border=\"1\" class=\"dataframe\">\n",
       "  <thead>\n",
       "    <tr style=\"text-align: right;\">\n",
       "      <th></th>\n",
       "      <th>Zip</th>\n",
       "      <th>City</th>\n",
       "      <th>State</th>\n",
       "      <th>Latitude</th>\n",
       "      <th>Longitude</th>\n",
       "      <th>2010 Census Population</th>\n",
       "      <th>Distance from Reactor</th>\n",
       "    </tr>\n",
       "  </thead>\n",
       "  <tbody>\n",
       "    <tr>\n",
       "      <th>16495</th>\n",
       "      <td>72847</td>\n",
       "      <td>London</td>\n",
       "      <td>AR</td>\n",
       "      <td>35.380528</td>\n",
       "      <td>-93.28528</td>\n",
       "      <td>2850.0</td>\n",
       "      <td>6.513935</td>\n",
       "    </tr>\n",
       "    <tr>\n",
       "      <th>31050</th>\n",
       "      <td>72835</td>\n",
       "      <td>Delaware</td>\n",
       "      <td>AR</td>\n",
       "      <td>35.299773</td>\n",
       "      <td>-93.35469</td>\n",
       "      <td>923.0</td>\n",
       "      <td>10.355282</td>\n",
       "    </tr>\n",
       "    <tr>\n",
       "      <th>9999</th>\n",
       "      <td>72845</td>\n",
       "      <td>Knoxville</td>\n",
       "      <td>AR</td>\n",
       "      <td>35.376739</td>\n",
       "      <td>-93.35706</td>\n",
       "      <td>1216.0</td>\n",
       "      <td>11.197992</td>\n",
       "    </tr>\n",
       "    <tr>\n",
       "      <th>7511</th>\n",
       "      <td>72801</td>\n",
       "      <td>Russellville</td>\n",
       "      <td>AR</td>\n",
       "      <td>35.278429</td>\n",
       "      <td>-93.13682</td>\n",
       "      <td>18685.0</td>\n",
       "      <td>11.592383</td>\n",
       "    </tr>\n",
       "    <tr>\n",
       "      <th>30417</th>\n",
       "      <td>72802</td>\n",
       "      <td>Russellville</td>\n",
       "      <td>AR</td>\n",
       "      <td>35.308848</td>\n",
       "      <td>-93.10909</td>\n",
       "      <td>20973.0</td>\n",
       "      <td>12.768701</td>\n",
       "    </tr>\n",
       "  </tbody>\n",
       "</table>\n",
       "</div>"
      ],
      "text/plain": [
       "         Zip          City State   Latitude  Longitude  \\\n",
       "16495  72847        London    AR  35.380528  -93.28528   \n",
       "31050  72835      Delaware    AR  35.299773  -93.35469   \n",
       "9999   72845     Knoxville    AR  35.376739  -93.35706   \n",
       "7511   72801  Russellville    AR  35.278429  -93.13682   \n",
       "30417  72802  Russellville    AR  35.308848  -93.10909   \n",
       "\n",
       "       2010 Census Population  Distance from Reactor  \n",
       "16495                  2850.0               6.513935  \n",
       "31050                   923.0              10.355282  \n",
       "9999                   1216.0              11.197992  \n",
       "7511                  18685.0              11.592383  \n",
       "30417                 20973.0              12.768701  "
      ]
     },
     "execution_count": 22,
     "metadata": {},
     "output_type": "execute_result"
    }
   ],
   "source": [
    "geoPop.sort_values(by='Distance from Reactor', inplace=True)\n",
    "geoPop.head()"
   ]
  },
  {
   "cell_type": "code",
   "execution_count": 23,
   "metadata": {},
   "outputs": [
    {
     "data": {
      "text/plain": [
       "Text(0, 0.5, 'Population')"
      ]
     },
     "execution_count": 23,
     "metadata": {},
     "output_type": "execute_result"
    },
    {
     "data": {
      "image/png": "[encoded data removed]",
      "text/plain": [
       "<Figure size 432x288 with 1 Axes>"
      ]
     },
     "metadata": {
      "needs_background": "light"
     },
     "output_type": "display_data"
    }
   ],
   "source": [
    "plt.plot(geoPop['Distance from Reactor'], geoPop['2010 Census Population'])\n",
    "        \n",
    "plt.xlim(0, 500)\n",
    "plt.xlabel('Distance From Reactor')\n",
    "plt.ylabel('Population')"
   ]
  },
  {
   "cell_type": "code",
   "execution_count": null,
   "metadata": {},
   "outputs": [],
   "source": []
  }
 ],
 "metadata": {
  "kernelspec": {
   "display_name": "Python 3",
   "language": "python",
   "name": "python3"
  },
  "language_info": {
   "codemirror_mode": {
    "name": "ipython",
    "version": 3
   },
   "file_extension": ".py",
   "mimetype": "text/x-python",
   "name": "python",
   "nbconvert_exporter": "python",
   "pygments_lexer": "ipython3",
   "version": "3.8.3"
  }
 },
 "nbformat": 4,
 "nbformat_minor": 4
}
