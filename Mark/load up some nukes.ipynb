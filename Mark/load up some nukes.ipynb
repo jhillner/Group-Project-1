{
 "cells": [
  {
   "cell_type": "code",
   "execution_count": 1,
   "metadata": {},
   "outputs": [],
   "source": [
    "## Dependencies and Setup\n",
    "import matplotlib.pyplot as plt\n",
    "import pandas as pd\n",
    "import numpy as np\n",
    "import requests\n",
    "import gmaps\n",
    "import os\n",
    "from ipywidgets.embed import embed_minimal_html\n",
    "\n",
    "## Import API key\n",
    "from api_keys import g_key"
   ]
  },
  {
   "cell_type": "code",
   "execution_count": 2,
   "metadata": {},
   "outputs": [],
   "source": [
    "## configure the gmaps key\n",
    "gmaps.configure(api_key=g_key)"
   ]
  },
  {
   "cell_type": "code",
   "execution_count": 3,
   "metadata": {},
   "outputs": [
    {
     "data": {
      "text/html": [
       "<div>\n",
       "<style scoped>\n",
       "    .dataframe tbody tr th:only-of-type {\n",
       "        vertical-align: middle;\n",
       "    }\n",
       "\n",
       "    .dataframe tbody tr th {\n",
       "        vertical-align: top;\n",
       "    }\n",
       "\n",
       "    .dataframe thead th {\n",
       "        text-align: right;\n",
       "    }\n",
       "</style>\n",
       "<table border=\"1\" class=\"dataframe\">\n",
       "  <thead>\n",
       "    <tr style=\"text-align: right;\">\n",
       "      <th></th>\n",
       "      <th>Name</th>\n",
       "      <th>City</th>\n",
       "      <th>State</th>\n",
       "      <th>Lat</th>\n",
       "      <th>Long</th>\n",
       "      <th>Open</th>\n",
       "      <th>License Expires</th>\n",
       "      <th>Unnamed: 7</th>\n",
       "      <th>Unnamed: 8</th>\n",
       "      <th>Unnamed: 9</th>\n",
       "      <th>Website</th>\n",
       "    </tr>\n",
       "  </thead>\n",
       "  <tbody>\n",
       "    <tr>\n",
       "      <th>0</th>\n",
       "      <td>Arkansas Nuclear One, Unit 1</td>\n",
       "      <td>London</td>\n",
       "      <td>AR</td>\n",
       "      <td>35.330898</td>\n",
       "      <td>-93.247162</td>\n",
       "      <td>1974</td>\n",
       "      <td>2034</td>\n",
       "      <td>NaN</td>\n",
       "      <td>NaN</td>\n",
       "      <td>NaN</td>\n",
       "      <td>https://www.nrc.gov/info-finder/reactors/</td>\n",
       "    </tr>\n",
       "    <tr>\n",
       "      <th>1</th>\n",
       "      <td>Arkansas Nuclear One, Unit 2</td>\n",
       "      <td>London</td>\n",
       "      <td>AR</td>\n",
       "      <td>35.330898</td>\n",
       "      <td>-93.247162</td>\n",
       "      <td>1974</td>\n",
       "      <td>2034</td>\n",
       "      <td>NaN</td>\n",
       "      <td>NaN</td>\n",
       "      <td>NaN</td>\n",
       "      <td>NaN</td>\n",
       "    </tr>\n",
       "    <tr>\n",
       "      <th>2</th>\n",
       "      <td>Beaver Valley Power Station 1</td>\n",
       "      <td>Shippingport</td>\n",
       "      <td>PA</td>\n",
       "      <td>40.629372</td>\n",
       "      <td>-80.421249</td>\n",
       "      <td>1976</td>\n",
       "      <td>2036</td>\n",
       "      <td>NaN</td>\n",
       "      <td>NaN</td>\n",
       "      <td>NaN</td>\n",
       "      <td>NaN</td>\n",
       "    </tr>\n",
       "    <tr>\n",
       "      <th>3</th>\n",
       "      <td>Beaver Valley Power Station 2</td>\n",
       "      <td>Shippingport</td>\n",
       "      <td>PA</td>\n",
       "      <td>40.629372</td>\n",
       "      <td>-80.421249</td>\n",
       "      <td>1976</td>\n",
       "      <td>2036</td>\n",
       "      <td>NaN</td>\n",
       "      <td>NaN</td>\n",
       "      <td>NaN</td>\n",
       "      <td>NaN</td>\n",
       "    </tr>\n",
       "    <tr>\n",
       "      <th>4</th>\n",
       "      <td>Braidwood Station 1</td>\n",
       "      <td>Braceville</td>\n",
       "      <td>IL</td>\n",
       "      <td>41.226929</td>\n",
       "      <td>-88.264282</td>\n",
       "      <td>1987</td>\n",
       "      <td>2046</td>\n",
       "      <td>NaN</td>\n",
       "      <td>NaN</td>\n",
       "      <td>NaN</td>\n",
       "      <td>NaN</td>\n",
       "    </tr>\n",
       "  </tbody>\n",
       "</table>\n",
       "</div>"
      ],
      "text/plain": [
       "                            Name          City State        Lat       Long  \\\n",
       "0   Arkansas Nuclear One, Unit 1        London    AR  35.330898 -93.247162   \n",
       "1   Arkansas Nuclear One, Unit 2        London    AR  35.330898 -93.247162   \n",
       "2  Beaver Valley Power Station 1  Shippingport    PA  40.629372 -80.421249   \n",
       "3  Beaver Valley Power Station 2  Shippingport    PA  40.629372 -80.421249   \n",
       "4            Braidwood Station 1    Braceville    IL  41.226929 -88.264282   \n",
       "\n",
       "   Open  License Expires  Unnamed: 7  Unnamed: 8  Unnamed: 9  \\\n",
       "0  1974             2034         NaN         NaN         NaN   \n",
       "1  1974             2034         NaN         NaN         NaN   \n",
       "2  1976             2036         NaN         NaN         NaN   \n",
       "3  1976             2036         NaN         NaN         NaN   \n",
       "4  1987             2046         NaN         NaN         NaN   \n",
       "\n",
       "                                     Website  \n",
       "0  https://www.nrc.gov/info-finder/reactors/  \n",
       "1                                        NaN  \n",
       "2                                        NaN  \n",
       "3                                        NaN  \n",
       "4                                        NaN  "
      ]
     },
     "execution_count": 3,
     "metadata": {},
     "output_type": "execute_result"
    }
   ],
   "source": [
    "## load up reactor data\n",
    "usReactors = pd.read_excel('../Data/LatLongPlants.xlsx')\n",
    "usReactors.head()"
   ]
  },
  {
   "cell_type": "code",
   "execution_count": 4,
   "metadata": {},
   "outputs": [],
   "source": [
    "# Using the template add the hotel marks to the heatmap\n",
    "# info_box_template = \"\"\"\n",
    "# <dl>\n",
    "# <dt>Reactor Name</dt><dd>{Name}</dd>\n",
    "# <dt>City</dt><dd>{City}</dd>\n",
    "# <dt>State</dt><dd>{State}</dd>\n",
    "# </dl>\n",
    "# \"\"\""
   ]
  },
  {
   "cell_type": "code",
   "execution_count": 5,
   "metadata": {},
   "outputs": [],
   "source": [
    "## make dfs that contain reactors according decade build\n",
    "def reactorDecade(df, decadeStart, decadeEnd):\n",
    "    #decadeDF = df[(df.Open >= decadeStart) & (df.Open < decadeEnd)]\n",
    "    decadeDF = df[(df.Open < decadeEnd)]\n",
    "    # reactorLocations = decadeDF[[\"Lat\", \"Long\"]]\n",
    "    \n",
    "    # Using the template add the hotel marks to the heatmap\n",
    "    info_box_template = \"\"\"\n",
    "    <dl>\n",
    "    <dt>Reactor Name</dt><dd>{Name}</dd>\n",
    "    <dt>City</dt><dd>{City}</dd>\n",
    "    <dt>State</dt><dd>{State}</dd>\n",
    "    </dl>\n",
    "    \"\"\"    \n",
    "    \n",
    "    \n",
    "    reactor_info = [info_box_template.format(**row) for index, row in decadeDF.iterrows()]\n",
    "    reactorLocations = decadeDF[[\"Lat\", \"Long\"]]\n",
    "    \n",
    "\n",
    "#     markerLayer = gmaps.marker_layer(reactorLocations, info_box_content = reactor_info)\n",
    "    markerLayer = gmaps.symbol_layer(reactorLocations, fill_color='black', stroke_color='red', scale=4)\n",
    "    \n",
    "    return markerLayer, reactorLocations"
   ]
  },
  {
   "cell_type": "code",
   "execution_count": 6,
   "metadata": {},
   "outputs": [],
   "source": [
    "## get decade-specific reactor markers\n",
    "markerLayer1960, reactorLocations1960 = reactorDecade(usReactors, 1960, 1970)\n",
    "markerLayer1970, reactorLocations1970 = reactorDecade(usReactors, 1970, 1980)\n",
    "markerLayer1980, reactorLocations1980 = reactorDecade(usReactors, 1980, 1990)\n",
    "markerLayer1990, reactorLocations1990 = reactorDecade(usReactors, 1990, 2000)\n",
    "markerLayer2000, reactorLocations2000 = reactorDecade(usReactors, 2000, 2010)\n",
    "markerLayer2010, reactorLocations2010 = reactorDecade(usReactors, 2010, 2020)\n"
   ]
  },
  {
   "cell_type": "code",
   "execution_count": 7,
   "metadata": {},
   "outputs": [],
   "source": [
    "# make loop to make population layers\n",
    "def popLayer(popFile, maxPop):\n",
    "    popDF = pd.read_csv(f\"../Data/{popFile}.csv\")\n",
    "    cityLocations = popDF[[\"Latitude\", \"Longitude\"]]\n",
    "    cityPops = popDF.Population.values\n",
    "#     maxPop = cityPops[0].astype(float)\n",
    "    pop_layer = gmaps.heatmap_layer(cityLocations, weights=cityPops, dissipating=False, max_intensity=maxPop, point_radius=2)\n",
    "    return pop_layer"
   ]
  },
  {
   "cell_type": "code",
   "execution_count": 8,
   "metadata": {},
   "outputs": [],
   "source": [
    "# function to find the max population at the the time\n",
    "def findPopMax(popFile, maxPop):\n",
    "        popDF = pd.read_csv(f\"../Data/{popFile}.csv\")\n",
    "        cityPops = popDF.Population.values\n",
    "        maxPop.append(cityPops[0].astype(float))\n",
    "        return maxPop"
   ]
  },
  {
   "cell_type": "code",
   "execution_count": 9,
   "metadata": {},
   "outputs": [],
   "source": [
    "# find max population throughout the decades\n",
    "maxPop = []\n",
    "maxPop = findPopMax('cityCensus_1940', maxPop)\n",
    "maxPop = findPopMax('cityCensus_1950', maxPop)\n",
    "maxPop = findPopMax('cityCensus_1960', maxPop)\n",
    "maxPop = findPopMax('cityCensus_1970', maxPop)\n",
    "maxPop = findPopMax('cityCensus_1980', maxPop)\n",
    "maxPop = findPopMax('cityCensus_1990', maxPop)\n",
    "maxPop = findPopMax('cityCensus_2000', maxPop)\n",
    "maxPop = findPopMax('cityCensus_2010', maxPop)\n",
    "finalMaxPop = max(maxPop)\n"
   ]
  },
  {
   "cell_type": "code",
   "execution_count": 10,
   "metadata": {},
   "outputs": [],
   "source": [
    "# generate population heat maps\n",
    "heatPop1940 = popLayer('cityCensus_1940', finalMaxPop)\n",
    "heatPop1950 = popLayer('cityCensus_1950', finalMaxPop)\n",
    "heatPop1960 = popLayer('cityCensus_1960', finalMaxPop)\n",
    "heatPop1970 = popLayer('cityCensus_1970', finalMaxPop)\n",
    "heatPop1980 = popLayer('cityCensus_1980', finalMaxPop)\n",
    "heatPop1990 = popLayer('cityCensus_1990', finalMaxPop)\n",
    "heatPop2000 = popLayer('cityCensus_2000', finalMaxPop)\n",
    "heatPop2010 = popLayer('cityCensus_2010', finalMaxPop)"
   ]
  },
  {
   "cell_type": "code",
   "execution_count": 11,
   "metadata": {},
   "outputs": [
    {
     "data": {
      "application/vnd.jupyter.widget-view+json": {
       "model_id": "eefdff5dca8b4d599514273df18417b1",
       "version_major": 2,
       "version_minor": 0
      },
      "text/plain": [
       "Figure(layout=FigureLayout(height='420px'))"
      ]
     },
     "metadata": {},
     "output_type": "display_data"
    }
   ],
   "source": [
    "fig1960 = gmaps.figure()\n",
    "fig1960.add_layer(markerLayer1960)\n",
    "fig1960.add_layer(heatPop1960)\n",
    "fig1960"
   ]
  },
  {
   "cell_type": "code",
   "execution_count": 12,
   "metadata": {},
   "outputs": [
    {
     "data": {
      "application/vnd.jupyter.widget-view+json": {
       "model_id": "b0210765796c40cab474c3993830cf32",
       "version_major": 2,
       "version_minor": 0
      },
      "text/plain": [
       "Figure(layout=FigureLayout(height='420px'))"
      ]
     },
     "metadata": {},
     "output_type": "display_data"
    }
   ],
   "source": [
    "fig1970 = gmaps.figure()\n",
    "fig1970.add_layer(markerLayer1970)\n",
    "fig1970.add_layer(heatPop1970)\n",
    "fig1970"
   ]
  },
  {
   "cell_type": "code",
   "execution_count": 13,
   "metadata": {},
   "outputs": [
    {
     "data": {
      "application/vnd.jupyter.widget-view+json": {
       "model_id": "e90dcf4de2d04729b6bd664415d2cfc2",
       "version_major": 2,
       "version_minor": 0
      },
      "text/plain": [
       "Figure(layout=FigureLayout(height='420px'))"
      ]
     },
     "metadata": {},
     "output_type": "display_data"
    }
   ],
   "source": [
    "fig1980 = gmaps.figure()\n",
    "fig1980.add_layer(markerLayer1980)\n",
    "fig1980.add_layer(heatPop1980)\n",
    "fig1980"
   ]
  },
  {
   "cell_type": "code",
   "execution_count": 14,
   "metadata": {},
   "outputs": [
    {
     "data": {
      "application/vnd.jupyter.widget-view+json": {
       "model_id": "7d8d19f751ce446da2bc0401762e966a",
       "version_major": 2,
       "version_minor": 0
      },
      "text/plain": [
       "Figure(layout=FigureLayout(height='420px'))"
      ]
     },
     "metadata": {},
     "output_type": "display_data"
    }
   ],
   "source": [
    "fig1990 = gmaps.figure()\n",
    "fig1990.add_layer(markerLayer1990)\n",
    "fig1990.add_layer(heatPop1990)\n",
    "fig1990"
   ]
  },
  {
   "cell_type": "code",
   "execution_count": 15,
   "metadata": {},
   "outputs": [
    {
     "data": {
      "application/vnd.jupyter.widget-view+json": {
       "model_id": "70ba10c717cd401f96fe121e8e613913",
       "version_major": 2,
       "version_minor": 0
      },
      "text/plain": [
       "Figure(layout=FigureLayout(height='420px'))"
      ]
     },
     "metadata": {},
     "output_type": "display_data"
    }
   ],
   "source": [
    "fig2000 = gmaps.figure()\n",
    "fig2000.add_layer(markerLayer2000)\n",
    "fig2000.add_layer(heatPop2000)\n",
    "fig2000"
   ]
  },
  {
   "cell_type": "code",
   "execution_count": 16,
   "metadata": {},
   "outputs": [
    {
     "data": {
      "application/vnd.jupyter.widget-view+json": {
       "model_id": "182818b6348b443cae77eaad495f49ae",
       "version_major": 2,
       "version_minor": 0
      },
      "text/plain": [
       "Figure(layout=FigureLayout(height='420px'))"
      ]
     },
     "metadata": {},
     "output_type": "display_data"
    }
   ],
   "source": [
    "fig2010 = gmaps.figure()\n",
    "fig2010.add_layer(markerLayer2010)\n",
    "fig2010.add_layer(heatPop2010)\n",
    "fig2010"
   ]
  },
  {
   "cell_type": "code",
   "execution_count": null,
   "metadata": {},
   "outputs": [],
   "source": []
  },
  {
   "cell_type": "code",
   "execution_count": null,
   "metadata": {},
   "outputs": [],
   "source": []
  }
 ],
 "metadata": {
  "kernelspec": {
   "display_name": "Python 3",
   "language": "python",
   "name": "python3"
  },
  "language_info": {
   "codemirror_mode": {
    "name": "ipython",
    "version": 3
   },
   "file_extension": ".py",
   "mimetype": "text/x-python",
   "name": "python",
   "nbconvert_exporter": "python",
   "pygments_lexer": "ipython3",
   "version": "3.8.3"
  }
 },
 "nbformat": 4,
 "nbformat_minor": 4
}
