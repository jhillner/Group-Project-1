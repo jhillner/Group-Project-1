{
 "cells": [
  {
   "cell_type": "code",
   "execution_count": 1,
   "metadata": {},
   "outputs": [],
   "source": [
    "## Dependencies and Setup\n",
    "import matplotlib.pyplot as plt\n",
    "import pandas as pd\n",
    "import numpy as np\n",
    "import requests\n",
    "import gmaps\n",
    "import os\n",
    "from ipywidgets.embed import embed_minimal_html\n",
    "\n",
    "## Import API key\n",
    "from api_keys import g_key"
   ]
  },
  {
   "cell_type": "code",
   "execution_count": 2,
   "metadata": {},
   "outputs": [],
   "source": [
    "## configure the gmaps key\n",
    "gmaps.configure(api_key=g_key)"
   ]
  },
  {
   "cell_type": "code",
   "execution_count": 3,
   "metadata": {},
   "outputs": [
    {
     "data": {
      "text/html": [
       "<div>\n",
       "<style scoped>\n",
       "    .dataframe tbody tr th:only-of-type {\n",
       "        vertical-align: middle;\n",
       "    }\n",
       "\n",
       "    .dataframe tbody tr th {\n",
       "        vertical-align: top;\n",
       "    }\n",
       "\n",
       "    .dataframe thead th {\n",
       "        text-align: right;\n",
       "    }\n",
       "</style>\n",
       "<table border=\"1\" class=\"dataframe\">\n",
       "  <thead>\n",
       "    <tr style=\"text-align: right;\">\n",
       "      <th></th>\n",
       "      <th>Name</th>\n",
       "      <th>City</th>\n",
       "      <th>State</th>\n",
       "      <th>Lat</th>\n",
       "      <th>Long</th>\n",
       "      <th>Open</th>\n",
       "      <th>License Expires</th>\n",
       "      <th>Unnamed: 7</th>\n",
       "      <th>Unnamed: 8</th>\n",
       "      <th>Unnamed: 9</th>\n",
       "      <th>Website</th>\n",
       "    </tr>\n",
       "  </thead>\n",
       "  <tbody>\n",
       "    <tr>\n",
       "      <th>0</th>\n",
       "      <td>Arkansas Nuclear One, Unit 1</td>\n",
       "      <td>London</td>\n",
       "      <td>AR</td>\n",
       "      <td>35.330898</td>\n",
       "      <td>-93.247162</td>\n",
       "      <td>1974</td>\n",
       "      <td>2034</td>\n",
       "      <td>NaN</td>\n",
       "      <td>NaN</td>\n",
       "      <td>NaN</td>\n",
       "      <td>https://www.nrc.gov/info-finder/reactors/</td>\n",
       "    </tr>\n",
       "    <tr>\n",
       "      <th>1</th>\n",
       "      <td>Arkansas Nuclear One, Unit 2</td>\n",
       "      <td>London</td>\n",
       "      <td>AR</td>\n",
       "      <td>35.330898</td>\n",
       "      <td>-93.247162</td>\n",
       "      <td>1974</td>\n",
       "      <td>2034</td>\n",
       "      <td>NaN</td>\n",
       "      <td>NaN</td>\n",
       "      <td>NaN</td>\n",
       "      <td>NaN</td>\n",
       "    </tr>\n",
       "    <tr>\n",
       "      <th>2</th>\n",
       "      <td>Beaver Valley Power Station 1</td>\n",
       "      <td>Shippingport</td>\n",
       "      <td>PA</td>\n",
       "      <td>40.629372</td>\n",
       "      <td>-80.421249</td>\n",
       "      <td>1976</td>\n",
       "      <td>2036</td>\n",
       "      <td>NaN</td>\n",
       "      <td>NaN</td>\n",
       "      <td>NaN</td>\n",
       "      <td>NaN</td>\n",
       "    </tr>\n",
       "    <tr>\n",
       "      <th>3</th>\n",
       "      <td>Beaver Valley Power Station 2</td>\n",
       "      <td>Shippingport</td>\n",
       "      <td>PA</td>\n",
       "      <td>40.629372</td>\n",
       "      <td>-80.421249</td>\n",
       "      <td>1976</td>\n",
       "      <td>2036</td>\n",
       "      <td>NaN</td>\n",
       "      <td>NaN</td>\n",
       "      <td>NaN</td>\n",
       "      <td>NaN</td>\n",
       "    </tr>\n",
       "    <tr>\n",
       "      <th>4</th>\n",
       "      <td>Braidwood Station 1</td>\n",
       "      <td>Braceville</td>\n",
       "      <td>IL</td>\n",
       "      <td>41.226929</td>\n",
       "      <td>-88.264282</td>\n",
       "      <td>1987</td>\n",
       "      <td>2046</td>\n",
       "      <td>NaN</td>\n",
       "      <td>NaN</td>\n",
       "      <td>NaN</td>\n",
       "      <td>NaN</td>\n",
       "    </tr>\n",
       "  </tbody>\n",
       "</table>\n",
       "</div>"
      ],
      "text/plain": [
       "                            Name          City State        Lat       Long  \\\n",
       "0   Arkansas Nuclear One, Unit 1        London    AR  35.330898 -93.247162   \n",
       "1   Arkansas Nuclear One, Unit 2        London    AR  35.330898 -93.247162   \n",
       "2  Beaver Valley Power Station 1  Shippingport    PA  40.629372 -80.421249   \n",
       "3  Beaver Valley Power Station 2  Shippingport    PA  40.629372 -80.421249   \n",
       "4            Braidwood Station 1    Braceville    IL  41.226929 -88.264282   \n",
       "\n",
       "   Open  License Expires  Unnamed: 7  Unnamed: 8  Unnamed: 9  \\\n",
       "0  1974             2034         NaN         NaN         NaN   \n",
       "1  1974             2034         NaN         NaN         NaN   \n",
       "2  1976             2036         NaN         NaN         NaN   \n",
       "3  1976             2036         NaN         NaN         NaN   \n",
       "4  1987             2046         NaN         NaN         NaN   \n",
       "\n",
       "                                     Website  \n",
       "0  https://www.nrc.gov/info-finder/reactors/  \n",
       "1                                        NaN  \n",
       "2                                        NaN  \n",
       "3                                        NaN  \n",
       "4                                        NaN  "
      ]
     },
     "execution_count": 3,
     "metadata": {},
     "output_type": "execute_result"
    }
   ],
   "source": [
    "## load up reactor data\n",
    "usReactors = pd.read_excel('../Data/LatLongPlants.xlsx')\n",
    "usReactors.head()"
   ]
  },
  {
   "cell_type": "code",
   "execution_count": 4,
   "metadata": {},
   "outputs": [],
   "source": [
    "# Using the template add the hotel marks to the heatmap\n",
    "info_box_template = \"\"\"\n",
    "<dl>\n",
    "<dt>Reactor Name</dt><dd>{Name}</dd>\n",
    "<dt>City</dt><dd>{City}</dd>\n",
    "<dt>State</dt><dd>{State}</dd>\n",
    "</dl>\n",
    "\"\"\""
   ]
  },
  {
   "cell_type": "code",
   "execution_count": 5,
   "metadata": {},
   "outputs": [],
   "source": [
    "## make dfs that contain reactors according decade build\n",
    "def reactorDecade(df, decadeStart, decadeEnd):\n",
    "    #decadeDF = df[(df.Open >= decadeStart) & (df.Open < decadeEnd)]\n",
    "    decadeDF = df[(df.Open < decadeEnd)]\n",
    "    # reactorLocations = decadeDF[[\"Lat\", \"Long\"]]\n",
    "    \n",
    "    # Using the template add the hotel marks to the heatmap\n",
    "    info_box_template = \"\"\"\n",
    "    <dl>\n",
    "    <dt>Reactor Name</dt><dd>{Name}</dd>\n",
    "    <dt>City</dt><dd>{City}</dd>\n",
    "    <dt>State</dt><dd>{State}</dd>\n",
    "    </dl>\n",
    "    \"\"\"    \n",
    "    \n",
    "    \n",
    "    reactor_info = [info_box_template.format(**row) for index, row in decadeDF.iterrows()]\n",
    "    reactorLocations = decadeDF[[\"Lat\", \"Long\"]]\n",
    "    \n",
    "\n",
    "    markerLayer = gmaps.marker_layer(reactorLocations, info_box_content = reactor_info)\n",
    "    return markerLayer, reactorLocations"
   ]
  },
  {
   "cell_type": "code",
   "execution_count": 25,
   "metadata": {},
   "outputs": [],
   "source": [
    "## get decade-specific reactor markers\n",
    "markerLayer1960, reactorLocations1960 = reactorDecade(usReactors, 1960, 1970)\n",
    "markerLayer1970, reactorLocations1970 = reactorDecade(usReactors, 1970, 1980)\n",
    "markerLayer1980, reactorLocations1980 = reactorDecade(usReactors, 1980, 1990)\n",
    "markerLayer1990, reactorLocations1990 = reactorDecade(usReactors, 1990, 2000)\n",
    "markerLayer2000, reactorLocations2000 = reactorDecade(usReactors, 2000, 2010)\n",
    "markerLayer2010, reactorLocations2010 = reactorDecade(usReactors, 2010, 2020)\n"
   ]
  },
  {
   "cell_type": "code",
   "execution_count": 26,
   "metadata": {},
   "outputs": [],
   "source": [
    "# make loop to make population layers\n",
    "def popLayer(popFile):\n",
    "    popDF = pd.read_csv(f\"../Data/{popFile}.csv\")\n",
    "    cityLocations = popDF[[\"Latitude\", \"Longitude\"]]\n",
    "    cityPops = popDF.Population.values\n",
    "    maxPop = cityPops[0].astype(float)\n",
    "    pop_layer = gmaps.heatmap_layer(cityLocations, weights=cityPops, dissipating=False, max_intensity=maxPop, point_radius=2)\n",
    "    return pop_layer"
   ]
  },
  {
   "cell_type": "code",
   "execution_count": 27,
   "metadata": {},
   "outputs": [],
   "source": [
    "heatPop1940 = popLayer('cityCensus_1940')\n",
    "heatPop1950 = popLayer('cityCensus_1950')\n",
    "heatPop1960 = popLayer('cityCensus_1960')\n",
    "heatPop1970 = popLayer('cityCensus_1970')\n",
    "heatPop1980 = popLayer('cityCensus_1980')\n",
    "heatPop1990 = popLayer('cityCensus_1990')\n",
    "heatPop2000 = popLayer('cityCensus_2000')\n",
    "heatPop2010 = popLayer('cityCensus_2010')"
   ]
  },
  {
   "cell_type": "code",
   "execution_count": 14,
   "metadata": {},
   "outputs": [
    {
     "data": {
      "application/vnd.jupyter.widget-view+json": {
       "model_id": "f7259bbf8c6f49b1a79991a6fbd5be88",
       "version_major": 2,
       "version_minor": 0
      },
      "text/plain": [
       "Figure(layout=FigureLayout(height='420px'))"
      ]
     },
     "metadata": {},
     "output_type": "display_data"
    }
   ],
   "source": [
    "fig1960 = gmaps.figure()\n",
    "fig1960.add_layer(markerLayer1960)\n",
    "fig1960.add_layer(heatPop1960)\n",
    "fig1960"
   ]
  },
  {
   "cell_type": "code",
   "execution_count": 15,
   "metadata": {},
   "outputs": [
    {
     "data": {
      "application/vnd.jupyter.widget-view+json": {
       "model_id": "89c130d166b3447baca2e0b76a40e43d",
       "version_major": 2,
       "version_minor": 0
      },
      "text/plain": [
       "Figure(layout=FigureLayout(height='420px'))"
      ]
     },
     "metadata": {},
     "output_type": "display_data"
    }
   ],
   "source": [
    "fig1970 = gmaps.figure()\n",
    "fig1970.add_layer(markerLayer1970)\n",
    "fig1970.add_layer(heatPop1970)\n",
    "fig1970"
   ]
  },
  {
   "cell_type": "code",
   "execution_count": 16,
   "metadata": {},
   "outputs": [
    {
     "data": {
      "application/vnd.jupyter.widget-view+json": {
       "model_id": "782b08fb0c144175a9a3f9efd321f30c",
       "version_major": 2,
       "version_minor": 0
      },
      "text/plain": [
       "Figure(layout=FigureLayout(height='420px'))"
      ]
     },
     "metadata": {},
     "output_type": "display_data"
    }
   ],
   "source": [
    "fig1980 = gmaps.figure()\n",
    "fig1980.add_layer(markerLayer1980)\n",
    "fig1980.add_layer(heatPop1980)\n",
    "fig1980"
   ]
  },
  {
   "cell_type": "code",
   "execution_count": 17,
   "metadata": {},
   "outputs": [
    {
     "data": {
      "application/vnd.jupyter.widget-view+json": {
       "model_id": "1686e3b796984081a81580b14e066ef5",
       "version_major": 2,
       "version_minor": 0
      },
      "text/plain": [
       "Figure(layout=FigureLayout(height='420px'))"
      ]
     },
     "metadata": {},
     "output_type": "display_data"
    }
   ],
   "source": [
    "fig1990 = gmaps.figure()\n",
    "fig1990.add_layer(markerLayer1990)\n",
    "fig1990.add_layer(heatPop1990)\n",
    "fig1990"
   ]
  },
  {
   "cell_type": "code",
   "execution_count": 18,
   "metadata": {},
   "outputs": [
    {
     "data": {
      "application/vnd.jupyter.widget-view+json": {
       "model_id": "378d48fbfd464989b8266bb30190845f",
       "version_major": 2,
       "version_minor": 0
      },
      "text/plain": [
       "Figure(layout=FigureLayout(height='420px'))"
      ]
     },
     "metadata": {},
     "output_type": "display_data"
    }
   ],
   "source": [
    "fig2000 = gmaps.figure()\n",
    "fig2000.add_layer(markerLayer2000)\n",
    "fig2000.add_layer(heatPop2000)\n",
    "fig2000"
   ]
  },
  {
   "cell_type": "code",
   "execution_count": 19,
   "metadata": {},
   "outputs": [
    {
     "data": {
      "application/vnd.jupyter.widget-view+json": {
       "model_id": "732002fd5bd2459a90394a0e0c3ff541",
       "version_major": 2,
       "version_minor": 0
      },
      "text/plain": [
       "Figure(layout=FigureLayout(height='420px'))"
      ]
     },
     "metadata": {},
     "output_type": "display_data"
    }
   ],
   "source": [
    "fig2010 = gmaps.figure()\n",
    "fig2010.add_layer(markerLayer2010)\n",
    "fig2010.add_layer(heatPop2010)\n",
    "fig2010"
   ]
  },
  {
   "cell_type": "code",
   "execution_count": 20,
   "metadata": {},
   "outputs": [
    {
     "ename": "AttributeError",
     "evalue": "'Figure' object has no attribute 'savefig'",
     "output_type": "error",
     "traceback": [
      "\u001b[1;31m---------------------------------------------------------------------------\u001b[0m",
      "\u001b[1;31mAttributeError\u001b[0m                            Traceback (most recent call last)",
      "\u001b[1;32m<ipython-input-20-5c0bc3251ac2>\u001b[0m in \u001b[0;36m<module>\u001b[1;34m\u001b[0m\n\u001b[1;32m----> 1\u001b[1;33m \u001b[0mfig2010\u001b[0m\u001b[1;33m.\u001b[0m\u001b[0msavefig\u001b[0m\u001b[1;33m(\u001b[0m\u001b[0mtest\u001b[0m\u001b[1;33m.\u001b[0m\u001b[0mjpg\u001b[0m\u001b[1;33m,\u001b[0m \u001b[0mdpi\u001b[0m\u001b[1;33m=\u001b[0m\u001b[1;36m300\u001b[0m\u001b[1;33m)\u001b[0m\u001b[1;33m\u001b[0m\u001b[1;33m\u001b[0m\u001b[0m\n\u001b[0m",
      "\u001b[1;31mAttributeError\u001b[0m: 'Figure' object has no attribute 'savefig'"
     ]
    }
   ],
   "source": []
  },
  {
   "cell_type": "code",
   "execution_count": null,
   "metadata": {},
   "outputs": [],
   "source": []
  }
 ],
 "metadata": {
  "kernelspec": {
   "display_name": "Python 3",
   "language": "python",
   "name": "python3"
  },
  "language_info": {
   "codemirror_mode": {
    "name": "ipython",
    "version": 3
   },
   "file_extension": ".py",
   "mimetype": "text/x-python",
   "name": "python",
   "nbconvert_exporter": "python",
   "pygments_lexer": "ipython3",
   "version": "3.8.3"
  }
 },
 "nbformat": 4,
 "nbformat_minor": 4
}
