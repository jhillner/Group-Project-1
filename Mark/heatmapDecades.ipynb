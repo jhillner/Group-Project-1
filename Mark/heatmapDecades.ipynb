{
 "cells": [
  {
   "cell_type": "code",
   "execution_count": 2,
   "metadata": {},
   "outputs": [],
   "source": [
    "# Dependencies and Setup\n",
    "\n",
    "import pandas as pd\n",
    "\n",
    "import gmaps\n",
    "\n",
    "\n",
    "# Import API key\n",
    "from api_keys import g_key\n"
   ]
  },
  {
   "cell_type": "code",
   "execution_count": 3,
   "metadata": {},
   "outputs": [
    {
     "data": {
      "text/html": [
       "<div>\n",
       "<style scoped>\n",
       "    .dataframe tbody tr th:only-of-type {\n",
       "        vertical-align: middle;\n",
       "    }\n",
       "\n",
       "    .dataframe tbody tr th {\n",
       "        vertical-align: top;\n",
       "    }\n",
       "\n",
       "    .dataframe thead th {\n",
       "        text-align: right;\n",
       "    }\n",
       "</style>\n",
       "<table border=\"1\" class=\"dataframe\">\n",
       "  <thead>\n",
       "    <tr style=\"text-align: right;\">\n",
       "      <th></th>\n",
       "      <th>Unnamed: 0</th>\n",
       "      <th>City</th>\n",
       "      <th>State</th>\n",
       "      <th>Population</th>\n",
       "      <th>Location</th>\n",
       "      <th>Latitude</th>\n",
       "      <th>Longitude</th>\n",
       "    </tr>\n",
       "  </thead>\n",
       "  <tbody>\n",
       "    <tr>\n",
       "      <th>0</th>\n",
       "      <td>0</td>\n",
       "      <td>New York City</td>\n",
       "      <td>New York</td>\n",
       "      <td>7891957</td>\n",
       "      <td>Northeast</td>\n",
       "      <td>40.712775</td>\n",
       "      <td>-74.005973</td>\n",
       "    </tr>\n",
       "    <tr>\n",
       "      <th>1</th>\n",
       "      <td>1</td>\n",
       "      <td>Chicago</td>\n",
       "      <td>Illinois</td>\n",
       "      <td>3620962</td>\n",
       "      <td>Midwest</td>\n",
       "      <td>41.878114</td>\n",
       "      <td>-87.629798</td>\n",
       "    </tr>\n",
       "    <tr>\n",
       "      <th>2</th>\n",
       "      <td>2</td>\n",
       "      <td>Philadelphia</td>\n",
       "      <td>Pennsylvania</td>\n",
       "      <td>2071605</td>\n",
       "      <td>Northeast</td>\n",
       "      <td>39.952584</td>\n",
       "      <td>-75.165222</td>\n",
       "    </tr>\n",
       "    <tr>\n",
       "      <th>3</th>\n",
       "      <td>3</td>\n",
       "      <td>Los Angeles</td>\n",
       "      <td>California</td>\n",
       "      <td>1970358</td>\n",
       "      <td>West</td>\n",
       "      <td>34.052234</td>\n",
       "      <td>-118.243685</td>\n",
       "    </tr>\n",
       "    <tr>\n",
       "      <th>4</th>\n",
       "      <td>4</td>\n",
       "      <td>Detroit</td>\n",
       "      <td>Michigan</td>\n",
       "      <td>1849568</td>\n",
       "      <td>Midwest</td>\n",
       "      <td>42.331427</td>\n",
       "      <td>-83.045754</td>\n",
       "    </tr>\n",
       "  </tbody>\n",
       "</table>\n",
       "</div>"
      ],
      "text/plain": [
       "   Unnamed: 0           City         State  Population   Location   Latitude  \\\n",
       "0           0  New York City      New York     7891957  Northeast  40.712775   \n",
       "1           1        Chicago      Illinois     3620962    Midwest  41.878114   \n",
       "2           2   Philadelphia  Pennsylvania     2071605  Northeast  39.952584   \n",
       "3           3    Los Angeles    California     1970358       West  34.052234   \n",
       "4           4        Detroit      Michigan     1849568    Midwest  42.331427   \n",
       "\n",
       "    Longitude  \n",
       "0  -74.005973  \n",
       "1  -87.629798  \n",
       "2  -75.165222  \n",
       "3 -118.243685  \n",
       "4  -83.045754  "
      ]
     },
     "execution_count": 3,
     "metadata": {},
     "output_type": "execute_result"
    }
   ],
   "source": [
    "# Reading census data\n",
    "census_1940 = pd.read_csv(\"../Data/cityCensus_1940.csv\")\n",
    "census_1950 = pd.read_csv(\"../Data/cityCensus_1950.csv\")\n",
    "census_1950.head()\n"
   ]
  },
  {
   "cell_type": "code",
   "execution_count": 4,
   "metadata": {},
   "outputs": [],
   "source": [
    "# Configure gmaps\n",
    "gmaps.configure(api_key=g_key)\n",
    "\n",
    "\n",
    "pop1940 = census_1940[\"Population\"]\n",
    "maxpop1940 = pop1940.max()\n",
    "locations1940 = census_1940[[\"Latitude\", \"Longitude\"]]\n",
    "\n",
    "pop1950 = census_1950[\"Population\"]\n",
    "maxpop1950 = pop1950.max()\n",
    "locations1950 = census_1950[[\"Latitude\", \"Longitude\"]]\n"
   ]
  },
  {
   "cell_type": "code",
   "execution_count": 5,
   "metadata": {},
   "outputs": [
    {
     "data": {
      "application/vnd.jupyter.widget-view+json": {
       "model_id": "52fcb0b7d1ea45e081a7b5237653d861",
       "version_major": 2,
       "version_minor": 0
      },
      "text/plain": [
       "Figure(layout=FigureLayout(height='420px'))"
      ]
     },
     "metadata": {},
     "output_type": "display_data"
    }
   ],
   "source": [
    "# Plot Heatmap\n",
    "fig = gmaps.figure()\n",
    "\n",
    "# Create heat layer\n",
    "heat_layer1 = gmaps.heatmap_layer(locations1940, weights=pop1940,dissipating=False, max_intensity=maxpop1940,point_radius=3)\n",
    "\n",
    "heat_layer2 = gmaps.heatmap_layer(locations1950, weights=pop1950,dissipating=False, max_intensity=maxpop1950,point_radius=3)\n",
    "# Add layer\n",
    "fig.add_layer(heat_layer1)\n",
    "fig.add_layer(heat_layer2)\n",
    "\n",
    "\n",
    "# Display figure\n",
    "fig"
   ]
  },
  {
   "cell_type": "code",
   "execution_count": 6,
   "metadata": {},
   "outputs": [
    {
     "data": {
      "text/html": [
       "<div>\n",
       "<style scoped>\n",
       "    .dataframe tbody tr th:only-of-type {\n",
       "        vertical-align: middle;\n",
       "    }\n",
       "\n",
       "    .dataframe tbody tr th {\n",
       "        vertical-align: top;\n",
       "    }\n",
       "\n",
       "    .dataframe thead th {\n",
       "        text-align: right;\n",
       "    }\n",
       "</style>\n",
       "<table border=\"1\" class=\"dataframe\">\n",
       "  <thead>\n",
       "    <tr style=\"text-align: right;\">\n",
       "      <th></th>\n",
       "      <th>Lat</th>\n",
       "      <th>Long</th>\n",
       "    </tr>\n",
       "  </thead>\n",
       "  <tbody>\n",
       "    <tr>\n",
       "      <th>0</th>\n",
       "      <td>35.330898</td>\n",
       "      <td>-93.247162</td>\n",
       "    </tr>\n",
       "    <tr>\n",
       "      <th>1</th>\n",
       "      <td>35.330898</td>\n",
       "      <td>-93.247162</td>\n",
       "    </tr>\n",
       "    <tr>\n",
       "      <th>2</th>\n",
       "      <td>40.629372</td>\n",
       "      <td>-80.421249</td>\n",
       "    </tr>\n",
       "    <tr>\n",
       "      <th>3</th>\n",
       "      <td>40.629372</td>\n",
       "      <td>-80.421249</td>\n",
       "    </tr>\n",
       "    <tr>\n",
       "      <th>4</th>\n",
       "      <td>41.226929</td>\n",
       "      <td>-88.264282</td>\n",
       "    </tr>\n",
       "    <tr>\n",
       "      <th>...</th>\n",
       "      <td>...</td>\n",
       "      <td>...</td>\n",
       "    </tr>\n",
       "    <tr>\n",
       "      <th>91</th>\n",
       "      <td>33.090038</td>\n",
       "      <td>-82.015846</td>\n",
       "    </tr>\n",
       "    <tr>\n",
       "      <th>92</th>\n",
       "      <td>30.004869</td>\n",
       "      <td>-90.482010</td>\n",
       "    </tr>\n",
       "    <tr>\n",
       "      <th>93</th>\n",
       "      <td>35.691879</td>\n",
       "      <td>-84.860107</td>\n",
       "    </tr>\n",
       "    <tr>\n",
       "      <th>94</th>\n",
       "      <td>35.691879</td>\n",
       "      <td>-84.860107</td>\n",
       "    </tr>\n",
       "    <tr>\n",
       "      <th>95</th>\n",
       "      <td>38.194569</td>\n",
       "      <td>-95.744698</td>\n",
       "    </tr>\n",
       "  </tbody>\n",
       "</table>\n",
       "<p>96 rows × 2 columns</p>\n",
       "</div>"
      ],
      "text/plain": [
       "          Lat       Long\n",
       "0   35.330898 -93.247162\n",
       "1   35.330898 -93.247162\n",
       "2   40.629372 -80.421249\n",
       "3   40.629372 -80.421249\n",
       "4   41.226929 -88.264282\n",
       "..        ...        ...\n",
       "91  33.090038 -82.015846\n",
       "92  30.004869 -90.482010\n",
       "93  35.691879 -84.860107\n",
       "94  35.691879 -84.860107\n",
       "95  38.194569 -95.744698\n",
       "\n",
       "[96 rows x 2 columns]"
      ]
     },
     "execution_count": 6,
     "metadata": {},
     "output_type": "execute_result"
    }
   ],
   "source": [
    "usReactors = pd.read_excel('../Data/LatLongPlants.xlsx')\n",
    "reactorLocations = usReactors[[\"Lat\", \"Long\"]]\n",
    "reactorLocations\n"
   ]
  },
  {
   "cell_type": "code",
   "execution_count": 7,
   "metadata": {},
   "outputs": [],
   "source": [
    "# Using the template add the hotel marks to the heatmap\n",
    "info_box_template = \"\"\"\n",
    "<dl>\n",
    "<dt>Reactor Name</dt><dd>{Name}</dd>\n",
    "<dt>City</dt><dd>{City}</dd>\n",
    "<dt>State</dt><dd>{State}</dd>\n",
    "</dl>\n",
    "\"\"\"\n",
    "# Store the DataFrame Row\n",
    "# NOTE: be sure to update with your DataFrame name\n",
    "reactor_info = [info_box_template.format(**row) for index, row in usReactors.iterrows()]\n",
    "locations = usReactors[[\"Lat\", \"Long\"]]"
   ]
  },
  {
   "cell_type": "code",
   "execution_count": 8,
   "metadata": {},
   "outputs": [
    {
     "data": {
      "application/vnd.jupyter.widget-view+json": {
       "model_id": "52fcb0b7d1ea45e081a7b5237653d861",
       "version_major": 2,
       "version_minor": 0
      },
      "text/plain": [
       "Figure(layout=FigureLayout(height='420px'))"
      ]
     },
     "metadata": {},
     "output_type": "display_data"
    }
   ],
   "source": [
    "## add markers\n",
    "markerLayer = gmaps.marker_layer(locations, info_box_content = reactor_info)\n",
    "fig.add_layer(markerLayer)\n",
    "fig"
   ]
  },
  {
   "cell_type": "code",
   "execution_count": null,
   "metadata": {},
   "outputs": [],
   "source": []
  }
 ],
 "metadata": {
  "kernelspec": {
   "display_name": "Python 3",
   "language": "python",
   "name": "python3"
  },
  "language_info": {
   "codemirror_mode": {
    "name": "ipython",
    "version": 3
   },
   "file_extension": ".py",
   "mimetype": "text/x-python",
   "name": "python",
   "nbconvert_exporter": "python",
   "pygments_lexer": "ipython3",
   "version": "3.8.3"
  }
 },
 "nbformat": 4,
 "nbformat_minor": 4
}
